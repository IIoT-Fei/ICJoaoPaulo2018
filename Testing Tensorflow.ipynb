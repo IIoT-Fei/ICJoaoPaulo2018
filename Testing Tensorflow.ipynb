{
 "cells": [
  {
   "cell_type": "code",
   "execution_count": 1,
   "metadata": {},
   "outputs": [],
   "source": [
    "import pandas as pd\n",
    "import tensorflow as tf\n",
    "from tensorflow import keras\n",
    "import numpy as np\n",
    "import os\n",
    "os.environ['TF_CPP_MIN_LOG_LEVEL'] = '2' # Not compile to use AVX2 FMA warning handling\n",
    "\n",
    "imdb = keras.datasets.imdb"
   ]
  },
  {
   "cell_type": "markdown",
   "metadata": {},
   "source": [
    "## Training and testing data information"
   ]
  },
  {
   "cell_type": "code",
   "execution_count": 2,
   "metadata": {},
   "outputs": [
    {
     "name": "stdout",
     "output_type": "stream",
     "text": [
      "Training entries: 25000, labels: 25000\n",
      "Testing entries: 25000, labels: 25000\n"
     ]
    }
   ],
   "source": [
    "(train_data, train_labels), (test_data, test_labels) = imdb.load_data(num_words=10000)\n",
    "print(\"Training entries: {}, labels: {}\".format(len(train_data), len(train_labels)))\n",
    "print(\"Testing entries: {}, labels: {}\".format(len(test_data), len(test_labels)))"
   ]
  },
  {
   "cell_type": "markdown",
   "metadata": {},
   "source": [
    "## Data inside the training list"
   ]
  },
  {
   "cell_type": "code",
   "execution_count": 3,
   "metadata": {},
   "outputs": [
    {
     "name": "stdout",
     "output_type": "stream",
     "text": [
      "[1, 194, 1153, 194, 8255, 78, 228, 5, 6, 1463, 4369, 5012, 134, 26, 4, 715, 8, 118, 1634, 14, 394, 20, 13, 119, 954, 189, 102, 5, 207, 110, 3103, 21, 14, 69, 188, 8, 30, 23, 7, 4, 249, 126, 93, 4, 114, 9, 2300, 1523, 5, 647, 4, 116, 9, 35, 8163, 4, 229, 9, 340, 1322, 4, 118, 9, 4, 130, 4901, 19, 4, 1002, 5, 89, 29, 952, 46, 37, 4, 455, 9, 45, 43, 38, 1543, 1905, 398, 4, 1649, 26, 6853, 5, 163, 11, 3215, 2, 4, 1153, 9, 194, 775, 7, 8255, 2, 349, 2637, 148, 605, 2, 8003, 15, 123, 125, 68, 2, 6853, 15, 349, 165, 4362, 98, 5, 4, 228, 9, 43, 2, 1157, 15, 299, 120, 5, 120, 174, 11, 220, 175, 136, 50, 9, 4373, 228, 8255, 5, 2, 656, 245, 2350, 5, 4, 9837, 131, 152, 491, 18, 2, 32, 7464, 1212, 14, 9, 6, 371, 78, 22, 625, 64, 1382, 9, 8, 168, 145, 23, 4, 1690, 15, 16, 4, 1355, 5, 28, 6, 52, 154, 462, 33, 89, 78, 285, 16, 145, 95]\n",
      "0\n"
     ]
    }
   ],
   "source": [
    "print(train_data[1])\n",
    "print(train_labels[1])"
   ]
  },
  {
   "cell_type": "code",
   "execution_count": 6,
   "metadata": {},
   "outputs": [
    {
     "name": "stdout",
     "output_type": "stream",
     "text": [
      "218\n",
      "68\n"
     ]
    }
   ],
   "source": [
    "print(len(train_data[0]))\n",
    "print(len(test_data[0]))"
   ]
  },
  {
   "cell_type": "code",
   "execution_count": 4,
   "metadata": {},
   "outputs": [],
   "source": [
    "# A dictionary mapping words to an integer index\n",
    "word_index = imdb.get_word_index()\n",
    "\n",
    "# The first indices are reserved\n",
    "word_index = {k:(v+3) for k,v in word_index.items()} \n",
    "word_index[\"<PAD>\"] = 0\n",
    "word_index[\"<START>\"] = 1\n",
    "word_index[\"<UNK>\"] = 2  # unknown\n",
    "word_index[\"<UNUSED>\"] = 3\n",
    "\n",
    "reverse_word_index = dict([(value, key) for (key, value) in word_index.items()])\n",
    "\n",
    "def decode_review(text):\n",
    "    return ' '.join([reverse_word_index.get(i, '?') for i in text])"
   ]
  },
  {
   "cell_type": "code",
   "execution_count": 5,
   "metadata": {},
   "outputs": [
    {
     "data": {
      "text/plain": [
       "\"<START> this film was just brilliant casting location scenery story direction everyone's really suited the part they played and you could just imagine being there robert <UNK> is an amazing actor and now the same being director <UNK> father came from the same scottish island as myself so i loved the fact there was a real connection with this film the witty remarks throughout the film were great it was just brilliant so much that i bought the film as soon as it was released for <UNK> and would recommend it to everyone to watch and the fly fishing was amazing really cried at the end it was so sad and you know what they say if you cry at a film it must have been good and this definitely was also <UNK> to the two little boy's that played the <UNK> of norman and paul they were just brilliant children are often left out of the <UNK> list i think because the stars that play them all grown up are such a big profile for the whole film but these children are amazing and should be praised for what they have done don't you think the whole story was so lovely because it was true and was someone's life after all that was shared with us all\""
      ]
     },
     "execution_count": 5,
     "metadata": {},
     "output_type": "execute_result"
    }
   ],
   "source": [
    "decode_review(train_data[0])"
   ]
  },
  {
   "cell_type": "code",
   "execution_count": 7,
   "metadata": {},
   "outputs": [],
   "source": [
    "train_data = keras.preprocessing.sequence.pad_sequences(train_data,\n",
    "                                                        value=word_index[\"<PAD>\"],\n",
    "                                                        padding='post',\n",
    "                                                        maxlen=256)\n",
    "\n",
    "test_data = keras.preprocessing.sequence.pad_sequences(test_data,\n",
    "                                                       value=word_index[\"<PAD>\"],\n",
    "                                                       padding='post',\n",
    "                                                       maxlen=256)"
   ]
  },
  {
   "cell_type": "code",
   "execution_count": 11,
   "metadata": {},
   "outputs": [
    {
     "name": "stdout",
     "output_type": "stream",
     "text": [
      "[   1  194 1153  194 8255   78  228    5    6 1463 4369 5012  134   26\n",
      "    4  715    8  118 1634   14  394   20   13  119  954  189  102    5\n",
      "  207  110 3103   21   14   69  188    8   30   23    7    4  249  126\n",
      "   93    4  114    9 2300 1523    5  647    4  116    9   35 8163    4\n",
      "  229    9  340 1322    4  118    9    4  130 4901   19    4 1002    5\n",
      "   89   29  952   46   37    4  455    9   45   43   38 1543 1905  398\n",
      "    4 1649   26 6853    5  163   11 3215    2    4 1153    9  194  775\n",
      "    7 8255    2  349 2637  148  605    2 8003   15  123  125   68    2\n",
      " 6853   15  349  165 4362   98    5    4  228    9   43    2 1157   15\n",
      "  299  120    5  120  174   11  220  175  136   50    9 4373  228 8255\n",
      "    5    2  656  245 2350    5    4 9837  131  152  491   18    2   32\n",
      " 7464 1212   14    9    6  371   78   22  625   64 1382    9    8  168\n",
      "  145   23    4 1690   15   16    4 1355    5   28    6   52  154  462\n",
      "   33   89   78  285   16  145   95    0    0    0    0    0    0    0\n",
      "    0    0    0    0    0    0    0    0    0    0    0    0    0    0\n",
      "    0    0    0    0    0    0    0    0    0    0    0    0    0    0\n",
      "    0    0    0    0    0    0    0    0    0    0    0    0    0    0\n",
      "    0    0    0    0    0    0    0    0    0    0    0    0    0    0\n",
      "    0    0    0    0]\n"
     ]
    }
   ],
   "source": [
    "len(train_data[0]), len(train_data[1])\n",
    "print(train_data[1])"
   ]
  },
  {
   "cell_type": "code",
   "execution_count": 13,
   "metadata": {},
   "outputs": [
    {
     "name": "stdout",
     "output_type": "stream",
     "text": [
      "_________________________________________________________________\n",
      "Layer (type)                 Output Shape              Param #   \n",
      "=================================================================\n",
      "embedding (Embedding)        (None, None, 16)          160000    \n",
      "_________________________________________________________________\n",
      "global_average_pooling1d (Gl (None, 16)                0         \n",
      "_________________________________________________________________\n",
      "dense (Dense)                (None, 16)                272       \n",
      "_________________________________________________________________\n",
      "dense_1 (Dense)              (None, 1)                 17        \n",
      "=================================================================\n",
      "Total params: 160,289\n",
      "Trainable params: 160,289\n",
      "Non-trainable params: 0\n",
      "_________________________________________________________________\n"
     ]
    }
   ],
   "source": [
    "vocab_size = 10000\n",
    "\n",
    "model = keras.Sequential()\n",
    "model.add(keras.layers.Embedding(vocab_size, 16))\n",
    "model.add(keras.layers.GlobalAveragePooling1D())\n",
    "model.add(keras.layers.Dense(16, activation=tf.nn.relu))\n",
    "model.add(keras.layers.Dense(1, activation=tf.nn.sigmoid))\n",
    "\n",
    "model.summary()"
   ]
  },
  {
   "cell_type": "code",
   "execution_count": 14,
   "metadata": {},
   "outputs": [],
   "source": [
    "model.compile(optimizer=tf.train.AdamOptimizer(),\n",
    "              loss='binary_crossentropy',\n",
    "              metrics=['accuracy'])"
   ]
  },
  {
   "cell_type": "code",
   "execution_count": 19,
   "metadata": {},
   "outputs": [],
   "source": [
    "x_val = train_data[:10000]\n",
    "partial_x_train = train_data[10000:]\n",
    "\n",
    "y_val = train_labels[:10000]\n",
    "partial_y_train = train_labels[10000:]"
   ]
  },
  {
   "cell_type": "code",
   "execution_count": 20,
   "metadata": {},
   "outputs": [
    {
     "name": "stdout",
     "output_type": "stream",
     "text": [
      "Train on 15000 samples, validate on 10000 samples\n",
      "Epoch 1/40\n",
      "15000/15000 [==============================] - 1s 70us/step - loss: 0.7307 - acc: 0.5035 - val_loss: 0.6973 - val_acc: 0.4947\n",
      "Epoch 2/40\n",
      "15000/15000 [==============================] - 1s 46us/step - loss: 0.6921 - acc: 0.5243 - val_loss: 0.6906 - val_acc: 0.5457\n",
      "Epoch 3/40\n",
      "15000/15000 [==============================] - 1s 44us/step - loss: 0.6891 - acc: 0.5809 - val_loss: 0.6883 - val_acc: 0.6067\n",
      "Epoch 4/40\n",
      "15000/15000 [==============================] - 1s 44us/step - loss: 0.6861 - acc: 0.6410 - val_loss: 0.6853 - val_acc: 0.6529\n",
      "Epoch 5/40\n",
      "15000/15000 [==============================] - 1s 44us/step - loss: 0.6828 - acc: 0.6791 - val_loss: 0.6822 - val_acc: 0.6961\n",
      "Epoch 6/40\n",
      "15000/15000 [==============================] - 1s 44us/step - loss: 0.6790 - acc: 0.7305 - val_loss: 0.6784 - val_acc: 0.7313\n",
      "Epoch 7/40\n",
      "15000/15000 [==============================] - 1s 45us/step - loss: 0.6745 - acc: 0.7505 - val_loss: 0.6740 - val_acc: 0.7422\n",
      "Epoch 8/40\n",
      "15000/15000 [==============================] - 1s 46us/step - loss: 0.6689 - acc: 0.7683 - val_loss: 0.6682 - val_acc: 0.7591\n",
      "Epoch 9/40\n",
      "15000/15000 [==============================] - 1s 46us/step - loss: 0.6620 - acc: 0.7815 - val_loss: 0.6614 - val_acc: 0.7654\n",
      "Epoch 10/40\n",
      "15000/15000 [==============================] - 1s 51us/step - loss: 0.6519 - acc: 0.7889 - val_loss: 0.6484 - val_acc: 0.7739\n",
      "Epoch 11/40\n",
      "15000/15000 [==============================] - 1s 46us/step - loss: 0.6366 - acc: 0.7811 - val_loss: 0.6343 - val_acc: 0.7749\n",
      "Epoch 12/40\n",
      "15000/15000 [==============================] - 1s 46us/step - loss: 0.6199 - acc: 0.7993 - val_loss: 0.6180 - val_acc: 0.7774\n",
      "Epoch 13/40\n",
      "15000/15000 [==============================] - 1s 46us/step - loss: 0.6006 - acc: 0.8003 - val_loss: 0.6012 - val_acc: 0.7816\n",
      "Epoch 14/40\n",
      "15000/15000 [==============================] - 1s 46us/step - loss: 0.5796 - acc: 0.8091 - val_loss: 0.5804 - val_acc: 0.7943\n",
      "Epoch 15/40\n",
      "15000/15000 [==============================] - 1s 55us/step - loss: 0.5564 - acc: 0.8149 - val_loss: 0.5584 - val_acc: 0.8005\n",
      "Epoch 16/40\n",
      "15000/15000 [==============================] - 1s 45us/step - loss: 0.5326 - acc: 0.8205 - val_loss: 0.5365 - val_acc: 0.8008\n",
      "Epoch 17/40\n",
      "15000/15000 [==============================] - 1s 46us/step - loss: 0.5076 - acc: 0.8303 - val_loss: 0.5147 - val_acc: 0.8134\n",
      "Epoch 18/40\n",
      "15000/15000 [==============================] - 1s 58us/step - loss: 0.4831 - acc: 0.8394 - val_loss: 0.4929 - val_acc: 0.8211\n",
      "Epoch 19/40\n",
      "15000/15000 [==============================] - 1s 46us/step - loss: 0.4593 - acc: 0.8448 - val_loss: 0.4720 - val_acc: 0.8262\n",
      "Epoch 20/40\n",
      "15000/15000 [==============================] - 1s 46us/step - loss: 0.4355 - acc: 0.8532 - val_loss: 0.4506 - val_acc: 0.8321\n",
      "Epoch 21/40\n",
      "15000/15000 [==============================] - 1s 46us/step - loss: 0.4117 - acc: 0.8623 - val_loss: 0.4305 - val_acc: 0.8420\n",
      "Epoch 22/40\n",
      "15000/15000 [==============================] - 1s 48us/step - loss: 0.3897 - acc: 0.8687 - val_loss: 0.4124 - val_acc: 0.8468\n",
      "Epoch 23/40\n",
      "15000/15000 [==============================] - 1s 51us/step - loss: 0.3699 - acc: 0.8743 - val_loss: 0.3966 - val_acc: 0.8498\n",
      "Epoch 24/40\n",
      "15000/15000 [==============================] - 1s 46us/step - loss: 0.3518 - acc: 0.8788 - val_loss: 0.3824 - val_acc: 0.8567\n",
      "Epoch 25/40\n",
      "15000/15000 [==============================] - 1s 46us/step - loss: 0.3358 - acc: 0.8849 - val_loss: 0.3703 - val_acc: 0.8600\n",
      "Epoch 26/40\n",
      "15000/15000 [==============================] - 1s 48us/step - loss: 0.3214 - acc: 0.8891 - val_loss: 0.3599 - val_acc: 0.8630\n",
      "Epoch 27/40\n",
      "15000/15000 [==============================] - 1s 46us/step - loss: 0.3088 - acc: 0.8917 - val_loss: 0.3506 - val_acc: 0.8655\n",
      "Epoch 28/40\n",
      "15000/15000 [==============================] - 1s 45us/step - loss: 0.2968 - acc: 0.8971 - val_loss: 0.3425 - val_acc: 0.8673\n",
      "Epoch 29/40\n",
      "15000/15000 [==============================] - 1s 46us/step - loss: 0.2864 - acc: 0.8997 - val_loss: 0.3359 - val_acc: 0.8700\n",
      "Epoch 30/40\n",
      "15000/15000 [==============================] - 1s 45us/step - loss: 0.2774 - acc: 0.9004 - val_loss: 0.3296 - val_acc: 0.8730\n",
      "Epoch 31/40\n",
      "15000/15000 [==============================] - 1s 45us/step - loss: 0.2680 - acc: 0.9052 - val_loss: 0.3245 - val_acc: 0.8744\n",
      "Epoch 32/40\n",
      "15000/15000 [==============================] - 1s 45us/step - loss: 0.2603 - acc: 0.9069 - val_loss: 0.3198 - val_acc: 0.8763\n",
      "Epoch 33/40\n",
      "15000/15000 [==============================] - 1s 45us/step - loss: 0.2522 - acc: 0.9099 - val_loss: 0.3158 - val_acc: 0.8775\n",
      "Epoch 34/40\n",
      "15000/15000 [==============================] - 1s 45us/step - loss: 0.2451 - acc: 0.9133 - val_loss: 0.3121 - val_acc: 0.8781\n",
      "Epoch 35/40\n",
      "15000/15000 [==============================] - 1s 45us/step - loss: 0.2389 - acc: 0.9139 - val_loss: 0.3087 - val_acc: 0.8786\n",
      "Epoch 36/40\n",
      "15000/15000 [==============================] - 1s 46us/step - loss: 0.2319 - acc: 0.9175 - val_loss: 0.3059 - val_acc: 0.8799\n",
      "Epoch 37/40\n",
      "15000/15000 [==============================] - 1s 46us/step - loss: 0.2260 - acc: 0.9197 - val_loss: 0.3035 - val_acc: 0.8792\n",
      "Epoch 38/40\n",
      "15000/15000 [==============================] - 1s 54us/step - loss: 0.2203 - acc: 0.9221 - val_loss: 0.3006 - val_acc: 0.8814\n",
      "Epoch 39/40\n",
      "15000/15000 [==============================] - 1s 45us/step - loss: 0.2145 - acc: 0.9245 - val_loss: 0.2987 - val_acc: 0.8812\n",
      "Epoch 40/40\n",
      "15000/15000 [==============================] - 1s 53us/step - loss: 0.2093 - acc: 0.9261 - val_loss: 0.2966 - val_acc: 0.8824\n"
     ]
    }
   ],
   "source": [
    "history = model.fit(partial_x_train,\n",
    "                    partial_y_train,\n",
    "                    epochs=40,\n",
    "                    batch_size=512,\n",
    "                    validation_data=(x_val, y_val),\n",
    "                    verbose=1\n",
    "                   )"
   ]
  },
  {
   "cell_type": "code",
   "execution_count": 21,
   "metadata": {},
   "outputs": [
    {
     "name": "stdout",
     "output_type": "stream",
     "text": [
      "25000/25000 [==============================] - 0s 19us/step\n",
      "[0.30915536727905274, 0.87324]\n"
     ]
    }
   ],
   "source": [
    "results = model.evaluate(test_data, test_labels)\n",
    "print(results)"
   ]
  },
  {
   "cell_type": "code",
   "execution_count": 29,
   "metadata": {},
   "outputs": [
    {
     "data": {
      "text/plain": [
       "{'val_loss': [0.6973392684936524,\n",
       "  0.6905967485427856,\n",
       "  0.688323221206665,\n",
       "  0.68533844871521,\n",
       "  0.6821705298423767,\n",
       "  0.6783881917953491,\n",
       "  0.6740377443313599,\n",
       "  0.6682311828613281,\n",
       "  0.66144991979599,\n",
       "  0.6483688179016114,\n",
       "  0.6342970924377441,\n",
       "  0.6180429588317871,\n",
       "  0.6012068546295166,\n",
       "  0.5804332883834838,\n",
       "  0.5583621867179871,\n",
       "  0.5364926123619079,\n",
       "  0.5146593826293945,\n",
       "  0.4928626316070557,\n",
       "  0.4720010633945465,\n",
       "  0.4506024284362793,\n",
       "  0.4305205000400543,\n",
       "  0.4123825176239014,\n",
       "  0.3966102372169495,\n",
       "  0.38243741464614867,\n",
       "  0.37028953037261964,\n",
       "  0.3598680681705475,\n",
       "  0.35061229538917543,\n",
       "  0.34247078337669373,\n",
       "  0.3358757489681244,\n",
       "  0.3296261387348175,\n",
       "  0.324459357881546,\n",
       "  0.319805158996582,\n",
       "  0.31577012209892275,\n",
       "  0.3120664095878601,\n",
       "  0.30865873384475706,\n",
       "  0.3059247525215149,\n",
       "  0.3035096168041229,\n",
       "  0.30063255972862246,\n",
       "  0.2987072513580322,\n",
       "  0.2965848649978638],\n",
       " 'val_acc': [0.4947000000476837,\n",
       "  0.5457000003814697,\n",
       "  0.6067,\n",
       "  0.6529,\n",
       "  0.6961000003814697,\n",
       "  0.7313000000953674,\n",
       "  0.7421999998092651,\n",
       "  0.7591000003814697,\n",
       "  0.7654000004768372,\n",
       "  0.7739000001907349,\n",
       "  0.7749000004768372,\n",
       "  0.7774000002861023,\n",
       "  0.7816000003814697,\n",
       "  0.794300000667572,\n",
       "  0.8004999992370605,\n",
       "  0.8008000006675721,\n",
       "  0.8133999994277954,\n",
       "  0.8210999998092652,\n",
       "  0.8262,\n",
       "  0.8321000000953674,\n",
       "  0.8420000004768372,\n",
       "  0.8468000003814697,\n",
       "  0.8498000007629395,\n",
       "  0.8567000007629395,\n",
       "  0.8600000007629395,\n",
       "  0.8629999994277954,\n",
       "  0.8654999995231628,\n",
       "  0.8672999995231628,\n",
       "  0.8699999995231629,\n",
       "  0.873,\n",
       "  0.8743999999046326,\n",
       "  0.8763000000953675,\n",
       "  0.8775000001907348,\n",
       "  0.8781000002861022,\n",
       "  0.8786,\n",
       "  0.8799000002861023,\n",
       "  0.8792000001907349,\n",
       "  0.8814000001907348,\n",
       "  0.8812000001907349,\n",
       "  0.8824000001907348],\n",
       " 'loss': [0.7306787928263346,\n",
       "  0.6921353138287862,\n",
       "  0.689083742237091,\n",
       "  0.6861430905342102,\n",
       "  0.6827535411834716,\n",
       "  0.6789960039774576,\n",
       "  0.6744947154680888,\n",
       "  0.6689223777453105,\n",
       "  0.6620495112101237,\n",
       "  0.6518828839619955,\n",
       "  0.6365732239087423,\n",
       "  0.619937908744812,\n",
       "  0.6005673928896587,\n",
       "  0.5795532387415568,\n",
       "  0.5564464926719666,\n",
       "  0.5325592653910319,\n",
       "  0.5075750015258789,\n",
       "  0.4831238464037577,\n",
       "  0.4592658140182495,\n",
       "  0.43549930628140765,\n",
       "  0.4117121478875478,\n",
       "  0.3897223873138428,\n",
       "  0.3699471079985301,\n",
       "  0.3517520153840383,\n",
       "  0.3357608628590902,\n",
       "  0.3213948017279307,\n",
       "  0.3087723017215729,\n",
       "  0.29682803343137104,\n",
       "  0.2863950868765513,\n",
       "  0.277418164952596,\n",
       "  0.2679748515526454,\n",
       "  0.2603225220680237,\n",
       "  0.25219108091990156,\n",
       "  0.24512541663646698,\n",
       "  0.23886861600875856,\n",
       "  0.23194192862510682,\n",
       "  0.22598655103047688,\n",
       "  0.22034316173394522,\n",
       "  0.21454204750855763,\n",
       "  0.20930048383076985],\n",
       " 'acc': [0.5035333333651225,\n",
       "  0.5243333336194357,\n",
       "  0.5808666664759318,\n",
       "  0.640999999777476,\n",
       "  0.6791333333015442,\n",
       "  0.7305333331108094,\n",
       "  0.7504666663805644,\n",
       "  0.7682666667938233,\n",
       "  0.7814666668574015,\n",
       "  0.7888666668891907,\n",
       "  0.7811333330790202,\n",
       "  0.7993333333969116,\n",
       "  0.8002666665077209,\n",
       "  0.8091333332061768,\n",
       "  0.8149333335558573,\n",
       "  0.8205333332697551,\n",
       "  0.8303333330790201,\n",
       "  0.8394000001589457,\n",
       "  0.8448000000953675,\n",
       "  0.8532,\n",
       "  0.862266666730245,\n",
       "  0.868666666507721,\n",
       "  0.8743333331108093,\n",
       "  0.8788000001589458,\n",
       "  0.8849333332379659,\n",
       "  0.8890666669209798,\n",
       "  0.8917333336194356,\n",
       "  0.8970666669527689,\n",
       "  0.8996666669209799,\n",
       "  0.9003999999364217,\n",
       "  0.9052000000317891,\n",
       "  0.9068666664123535,\n",
       "  0.9098666667938232,\n",
       "  0.91333333346049,\n",
       "  0.9138666664441426,\n",
       "  0.9174666666030884,\n",
       "  0.9196666666030884,\n",
       "  0.9220666663805643,\n",
       "  0.92446666653951,\n",
       "  0.9261333335240682]}"
      ]
     },
     "execution_count": 29,
     "metadata": {},
     "output_type": "execute_result"
    }
   ],
   "source": [
    "history.history"
   ]
  },
  {
   "cell_type": "code",
   "execution_count": 22,
   "metadata": {},
   "outputs": [
    {
     "data": {
      "text/plain": [
       "dict_keys(['val_loss', 'val_acc', 'loss', 'acc'])"
      ]
     },
     "execution_count": 22,
     "metadata": {},
     "output_type": "execute_result"
    }
   ],
   "source": [
    "history_dict = history.history\n",
    "history_dict.keys()"
   ]
  },
  {
   "cell_type": "code",
   "execution_count": 26,
   "metadata": {},
   "outputs": [
    {
     "data": {
      "image/png": "[encoded data removed]",
      "text/plain": [
       "<Figure size 432x288 with 1 Axes>"
      ]
     },
     "metadata": {},
     "output_type": "display_data"
    }
   ],
   "source": [
    "import matplotlib.pyplot as plt\n",
    "\n",
    "acc = history_dict['acc']\n",
    "val_acc = history_dict['val_acc']\n",
    "loss = history_dict['loss']\n",
    "val_loss = history_dict['val_loss']\n",
    "\n",
    "epochs = range(1, len(acc) + 1)\n",
    "\n",
    "# \"bo\" é para \"pontos em azul\"\n",
    "plt.plot(epochs, loss, 'bo', label='Training loss')\n",
    "\n",
    "# b é para \"linha solida em azul\"\n",
    "plt.plot(epochs, val_loss, 'b', label='Validation loss')\n",
    "plt.title('Training and validation loss')\n",
    "plt.xlabel('Epochs')\n",
    "plt.ylabel('Loss')\n",
    "plt.legend()\n",
    "\n",
    "plt.show()"
   ]
  },
  {
   "cell_type": "code",
   "execution_count": 27,
   "metadata": {},
   "outputs": [
    {
     "data": {
      "image/png": "[encoded data removed]",
      "text/plain": [
       "<Figure size 432x288 with 1 Axes>"
      ]
     },
     "metadata": {},
     "output_type": "display_data"
    }
   ],
   "source": [
    "plt.clf()\n",
    "acc_values = history_dict['acc']\n",
    "val_acc_values = history_dict['val_acc']\n",
    "\n",
    "plt.plot(epochs, acc, 'bo', label='Training acc')\n",
    "plt.plot(epochs, val_acc, 'b', label='Validation acc')\n",
    "plt.title('Training and validation accuracy')\n",
    "plt.xlabel('Epochs')\n",
    "plt.ylabel('Accuracy')\n",
    "plt.legend()\n",
    "\n",
    "plt.show()"
   ]
  },
  {
   "cell_type": "code",
   "execution_count": null,
   "metadata": {},
   "outputs": [],
   "source": []
  },
  {
   "cell_type": "code",
   "execution_count": null,
   "metadata": {},
   "outputs": [],
   "source": []
  },
  {
   "cell_type": "code",
   "execution_count": null,
   "metadata": {},
   "outputs": [],
   "source": []
  }
 ],
 "metadata": {
  "kernelspec": {
   "display_name": "Python 3",
   "language": "python",
   "name": "python3"
  },
  "language_info": {
   "codemirror_mode": {
    "name": "ipython",
    "version": 3
   },
   "file_extension": ".py",
   "mimetype": "text/x-python",
   "name": "python",
   "nbconvert_exporter": "python",
   "pygments_lexer": "ipython3",
   "version": "3.6.6"
  }
 },
 "nbformat": 4,
 "nbformat_minor": 2
}
